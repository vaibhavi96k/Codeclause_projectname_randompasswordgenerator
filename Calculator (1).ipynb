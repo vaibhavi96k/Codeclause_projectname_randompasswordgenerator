{
 "cells": [
  {
   "cell_type": "code",
   "execution_count": null,
   "metadata": {},
   "outputs": [],
   "source": [
    "#calculator\n",
    "def add(num1,num2):\n",
    "    return num1+num2;\n",
    "def substract(num1,num2):\n",
    "    return num1-num2;\n",
    "def multiplication(num1,num2):\n",
    "    return num1*num2;\n",
    "def division(num1,num2):\n",
    "    return num1/num2;\n",
    "print(\"Please select options :\\n\"\n",
    "        \"1.add\\n\"\n",
    "        \"2.substract\\n\"\n",
    "        \"3.multiplication\\n\"\n",
    "        \"4.division\")\n",
    "choice=int(input(\"Select option from 1,2,3,4 :\"))\n",
    "number_1=int(input(\"Enter 1st number :\"))\n",
    "number_2=int(input(\"Enter 2nd number :\"))\n",
    "if choice == 1:\n",
    "    print(number_1,\"+\",number_2,\"=\",add(number_1,number_2))\n",
    "elif choice == 2:\n",
    "    print(number_1,\"-\",number_2,\"=\",substract(number_1,number_2))\n",
    "elif choice == 3:\n",
    "    print(number_1,\"*\",number_2,\"=\",multiplication(number_1,number_2))\n",
    "elif choice == 4:\n",
    "    print(number_1,\"/\",number_2,\"=\",divison(number_1,number_2))\n",
    "else:\n",
    "    print(\"Invalid input\")"
   ]
  }
 ],
 "metadata": {
  "kernelspec": {
   "display_name": "Python 3",
   "language": "python",
   "name": "python3"
  },
  "language_info": {
   "codemirror_mode": {
    "name": "ipython",
    "version": 3
   },
   "file_extension": ".py",
   "mimetype": "text/x-python",
   "name": "python",
   "nbconvert_exporter": "python",
   "pygments_lexer": "ipython3",
   "version": "3.7.4"
  }
 },
 "nbformat": 4,
 "nbformat_minor": 2
}
